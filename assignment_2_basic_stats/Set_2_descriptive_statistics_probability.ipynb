{
 "cells": [
  {
   "cell_type": "code",
   "execution_count": 1,
   "metadata": {},
   "outputs": [],
   "source": [
    "import pandas as pd\n",
    "import numpy as np\n",
    "from scipy import stats"
   ]
  },
  {
   "cell_type": "markdown",
   "metadata": {},
   "source": [
    "## P1"
   ]
  },
  {
   "cell_type": "markdown",
   "metadata": {},
   "source": [
    "The time required for servicing transmissions is normally distributed with $\\mu$ = 45 minutes and $\\sigma$ = 8 minutes. The service manager plans to have work begin on the transmission of a customer’s car 10 minutes after the car is dropped off and the customer is told that the car will be ready within 1 hour from drop-off. What is the probability that the service manager cannot meet his commitment? "
   ]
  },
  {
   "cell_type": "code",
   "execution_count": 2,
   "metadata": {},
   "outputs": [],
   "source": [
    "pval = np.round(stats.norm.cdf(x=50, loc=45, scale=8),4)"
   ]
  },
  {
   "cell_type": "code",
   "execution_count": 3,
   "metadata": {},
   "outputs": [
    {
     "data": {
      "text/plain": [
       "0.734"
      ]
     },
     "execution_count": 3,
     "metadata": {},
     "output_type": "execute_result"
    }
   ],
   "source": [
    "pval"
   ]
  },
  {
   "cell_type": "code",
   "execution_count": 4,
   "metadata": {},
   "outputs": [
    {
     "name": "stdout",
     "output_type": "stream",
     "text": [
      "Probability that the car service station will not finish the job in 50 minutes:  0.266\n"
     ]
    }
   ],
   "source": [
    "print(\"Probability that the car service station will not finish the job in 50 minutes: \", 1-pval)"
   ]
  },
  {
   "cell_type": "markdown",
   "metadata": {},
   "source": [
    "## P2"
   ]
  },
  {
   "cell_type": "markdown",
   "metadata": {},
   "source": [
    "The current age (in years) of 400 clerical employees at an insurance claims processing center is normally distributed with mean $\\mu$ = 38 and Standard deviation $\\sigma$ =6. For each statement below, please specify True/False. If false, briefly explain why.\n",
    "\n",
    "A.\tMore employees at the processing center are older than 44 than between 38 and 44.\n",
    "\n",
    "B.\tA training program for employees under the age of 30 at the center would be expected to attract about 36 employees.\n"
   ]
  },
  {
   "cell_type": "code",
   "execution_count": 5,
   "metadata": {},
   "outputs": [],
   "source": [
    "mean = 38\n",
    "stdev = 6\n",
    "# Probability of employees 38<age<44\n",
    "p_less_38 = np.round(stats.norm.cdf(x=38, loc=mean, scale=stdev),3)\n",
    "p_less_44 = np.round(stats.norm.cdf(x=44, loc=mean, scale=stdev),3)\n",
    "p_bw_38and44 = np.round((p_less_44-p_less_38),3)"
   ]
  },
  {
   "cell_type": "code",
   "execution_count": 6,
   "metadata": {},
   "outputs": [
    {
     "name": "stdout",
     "output_type": "stream",
     "text": [
      "Probability of finding employees 38<age<44 years:  0.341\n",
      "number of employees between 38<age<44 years:136.0 employees\n"
     ]
    }
   ],
   "source": [
    "print('Probability of finding employees 38<age<44 years: ',p_bw_38and44)\n",
    "print('number of employees between 38<age<44 years:{} employees'.format(np.round(p_bw_38and44*400)))"
   ]
  },
  {
   "cell_type": "code",
   "execution_count": 7,
   "metadata": {},
   "outputs": [],
   "source": [
    "# Probability of employees > 44 years.\n",
    "p_more_44 = np.round((1 - p_less_44),3)"
   ]
  },
  {
   "cell_type": "code",
   "execution_count": 8,
   "metadata": {},
   "outputs": [
    {
     "name": "stdout",
     "output_type": "stream",
     "text": [
      "Probability of finding employees older than 44 years:  0.159\n",
      "number of employees older than 44 years:64.0 employees\n"
     ]
    }
   ],
   "source": [
    "print('Probability of finding employees older than 44 years: ',p_more_44)\n",
    "print('number of employees older than 44 years:{} employees'.format(np.round(p_more_44*400)))"
   ]
  },
  {
   "cell_type": "code",
   "execution_count": 9,
   "metadata": {},
   "outputs": [
    {
     "name": "stdout",
     "output_type": "stream",
     "text": [
      "Probability of finding employees younger than 30 years:  0.091\n",
      "number of employees younger than 30 years:36.0 employees\n"
     ]
    }
   ],
   "source": [
    "# Probability of employees < 30 years.\n",
    "p_less_30 = np.round(stats.norm.cdf(x=30, loc=mean, scale=stdev),3)\n",
    "print('Probability of finding employees younger than 30 years: ',p_less_30)\n",
    "print('number of employees younger than 30 years:{} employees'.format(np.round(p_less_30*400)))"
   ]
  },
  {
   "cell_type": "markdown",
   "metadata": {},
   "source": [
    "## P4"
   ]
  },
  {
   "cell_type": "markdown",
   "metadata": {},
   "source": [
    "Let X ~ N(100, 20^2). Find two values, a and b, symmetric about the mean, such that the probability of the random variable taking a value between them is 0.99. "
   ]
  },
  {
   "cell_type": "code",
   "execution_count": 10,
   "metadata": {},
   "outputs": [],
   "source": [
    "mean = 100\n",
    "stdev = 20\n",
    "lower_tail = 0.005\n",
    "upper_tail = (1-lower_tail)"
   ]
  },
  {
   "cell_type": "code",
   "execution_count": 11,
   "metadata": {},
   "outputs": [
    {
     "data": {
      "text/plain": [
       "-2.575829303548901"
      ]
     },
     "execution_count": 11,
     "metadata": {},
     "output_type": "execute_result"
    }
   ],
   "source": [
    "Z_l = stats.norm.ppf(lower_tail)\n",
    "Z_l"
   ]
  },
  {
   "cell_type": "code",
   "execution_count": 12,
   "metadata": {},
   "outputs": [
    {
     "data": {
      "text/plain": [
       "2.5758293035489004"
      ]
     },
     "execution_count": 12,
     "metadata": {},
     "output_type": "execute_result"
    }
   ],
   "source": [
    "Z_h = stats.norm.ppf(upper_tail)\n",
    "Z_h"
   ]
  },
  {
   "cell_type": "code",
   "execution_count": 13,
   "metadata": {},
   "outputs": [],
   "source": [
    "a = Z_l*stdev + mean\n",
    "b = Z_h*stdev + mean"
   ]
  },
  {
   "cell_type": "code",
   "execution_count": 14,
   "metadata": {},
   "outputs": [
    {
     "name": "stdout",
     "output_type": "stream",
     "text": [
      "the interval (a, b) about the mean s.t p(a<X<b) = 99% or 0.99 is (a,b) = (48.48,151.52) \n"
     ]
    }
   ],
   "source": [
    "print(\"the interval (a, b) about the mean s.t p(a<X<b) = 99% or 0.99 is (a,b) = ({:.2f},{:.2f}) \".format(a,b))"
   ]
  },
  {
   "cell_type": "markdown",
   "metadata": {},
   "source": [
    "## P5"
   ]
  },
  {
   "cell_type": "markdown",
   "metadata": {},
   "source": [
    "Consider a company that has two different divisions. The annual profits from the two divisions are independent and have distributions Profit1 ~ N(5, 3^2) and Profit2 ~ N(7, 4^2) respectively. Both the profits are in Million dollars. Answer the following questions about the total profit of the company in Rupees. Assume that 1 dollar = Rs. 45\n",
    "\n",
    "A.\tSpecify a Rupee range (centered on the mean) such that it contains 95% probability for the annual profit of the company.\n",
    "\n",
    "B.\tSpecify the 5th percentile of profit (in Rupees) for the company\n",
    "\n",
    "C.\tWhich of the two divisions has a larger probability of making a loss in a given year?\n"
   ]
  },
  {
   "cell_type": "markdown",
   "metadata": {},
   "source": [
    "**Note:**\n",
    "\n",
    "Combined mean = 5 + 7 = 12\n",
    "\n",
    "Combined standard deviation = (3^2 + 4^2)^(1/2) = 5"
   ]
  },
  {
   "cell_type": "code",
   "execution_count": 15,
   "metadata": {},
   "outputs": [
    {
     "name": "stdout",
     "output_type": "stream",
     "text": [
      "the interval (a, b) about the mean s.t p(a<X<b) = 99% or 0.99 is (a,b) = (99.01,980.99) \n"
     ]
    }
   ],
   "source": [
    "mean = 540 # 12*45 \n",
    "stdev = 225 # 5*45\n",
    "lower_tail = 0.025\n",
    "upper_tail = (1-lower_tail)\n",
    "\n",
    "Z_l = stats.norm.ppf(lower_tail)\n",
    "Z_h = stats.norm.ppf(upper_tail)\n",
    "\n",
    "a = Z_l*stdev + mean\n",
    "b = Z_h*stdev + mean\n",
    "\n",
    "print(\"the interval (a, b) about the mean s.t p(a<X<b) = 99% or 0.99 is (a,b) = ({:.2f},{:.2f}) \".format(a,b))"
   ]
  },
  {
   "cell_type": "code",
   "execution_count": 16,
   "metadata": {},
   "outputs": [
    {
     "name": "stdout",
     "output_type": "stream",
     "text": [
      "Fifth percentile profit = 169.91\n"
     ]
    }
   ],
   "source": [
    "fith_pc = 0.05\n",
    "\n",
    "Z_fifth_pc = stats.norm.ppf(fith_pc)\n",
    "fith_pc_profit = Z_fifth_pc*stdev + mean\n",
    "print(\"Fifth percentile profit = {:.2f}\".format(fith_pc_profit))"
   ]
  },
  {
   "cell_type": "code",
   "execution_count": 17,
   "metadata": {},
   "outputs": [],
   "source": [
    "# Probability of making a loss for each company:\n",
    "prob_loss_company1 = stats.norm.cdf(x=0, loc=5,scale=3)\n",
    "prob_loss_company2 = stats.norm.cdf(x=0, loc=7,scale=4)"
   ]
  },
  {
   "cell_type": "code",
   "execution_count": 18,
   "metadata": {},
   "outputs": [
    {
     "name": "stdout",
     "output_type": "stream",
     "text": [
      "0.0477903522728147\n"
     ]
    }
   ],
   "source": [
    "print(prob_loss_company1)"
   ]
  },
  {
   "cell_type": "code",
   "execution_count": 19,
   "metadata": {},
   "outputs": [
    {
     "name": "stdout",
     "output_type": "stream",
     "text": [
      "0.040059156863817086\n"
     ]
    }
   ],
   "source": [
    "print(prob_loss_company2)"
   ]
  },
  {
   "cell_type": "code",
   "execution_count": null,
   "metadata": {},
   "outputs": [],
   "source": []
  }
 ],
 "metadata": {
  "kernelspec": {
   "display_name": "Python 3",
   "language": "python",
   "name": "python3"
  },
  "language_info": {
   "codemirror_mode": {
    "name": "ipython",
    "version": 3
   },
   "file_extension": ".py",
   "mimetype": "text/x-python",
   "name": "python",
   "nbconvert_exporter": "python",
   "pygments_lexer": "ipython3",
   "version": "3.7.4"
  }
 },
 "nbformat": 4,
 "nbformat_minor": 2
}
