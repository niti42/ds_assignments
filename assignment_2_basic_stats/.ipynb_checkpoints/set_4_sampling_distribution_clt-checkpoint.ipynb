{
 "cells": [
  {
   "cell_type": "code",
   "execution_count": 1,
   "metadata": {},
   "outputs": [],
   "source": [
    "import pandas as pd\n",
    "import numpy as np\n",
    "import matplotlib.pyplot as plt\n",
    "from scipy import stats"
   ]
  },
  {
   "cell_type": "markdown",
   "metadata": {},
   "source": [
    "## P3\n",
    "Auditors at a small community bank randomly sample 100 withdrawal transactions made during the week at an ATM machine located near the bank’s main branch. Over the past 2 years, the average withdrawal amount has been 50 dollars with a standard deviation of 40 dollars. Since audit investigations are typically expensive, the auditors decide to not initiate further investigations if the mean transaction amount of the sample is between 45 dollars and 55 dollars. What is the probability that in any given week, there will be an investigation?\n",
    "\n",
    "A.\t1.25%\n",
    "\n",
    "B.\t2.5%\n",
    "\n",
    "C.\t10.55%\n",
    "\n",
    "D.\t21.1%\n",
    "\n",
    "E.\t50%\n"
   ]
  },
  {
   "cell_type": "code",
   "execution_count": 2,
   "metadata": {},
   "outputs": [],
   "source": [
    "# Given  data:\n",
    "n_samples = 100\n",
    "pop_mean = 50\n",
    "pop_stdev = 40"
   ]
  },
  {
   "cell_type": "code",
   "execution_count": 3,
   "metadata": {},
   "outputs": [],
   "source": [
    "x_l = 45 # Lower limit of confidence interval\n",
    "x_h = 55 # Upper limit of confidence interval"
   ]
  },
  {
   "cell_type": "code",
   "execution_count": 4,
   "metadata": {},
   "outputs": [
    {
     "name": "stdout",
     "output_type": "stream",
     "text": [
      "probability that in any given week, there will be an investigation = 0.211\n"
     ]
    }
   ],
   "source": [
    "# P(investigation) = 1 - P(no investigation)\n",
    "std_error = pop_stdev/np.sqrt(n_samples) # Standard error = pop stdev/ sqrt(number of samples)\n",
    "p_l = stats.norm.cdf(x=x_l, loc=pop_mean, scale=std_error) # P(X<45)\n",
    "p_h = stats.norm.cdf(x=x_h, loc=pop_mean, scale=std_error) # P(X<55)\n",
    "p_no_investigation = p_h - p_l # P(45<X<55) = P(X<55) - P(X<45)\n",
    "p_investigation = 1 - p_no_investigation\n",
    "print(\"probability that in any given week, there will be an investigation = {:.3f}\".format(p_investigation))"
   ]
  },
  {
   "cell_type": "markdown",
   "metadata": {},
   "source": [
    "## P4\n",
    "The auditors from the above example would like to maintain the probability of investigation to 5%. Which of the following represents the minimum number transactions that they should sample if they do not want to change the thresholds of 45 and 55? Assume that the sample statistics remain unchanged.\n",
    "\n",
    "A.\t144\n",
    "\n",
    "B.\t150\n",
    "\n",
    "C.\t196\n",
    "\n",
    "D.\t250\n",
    "\n",
    "E.\tNot enough information\n"
   ]
  },
  {
   "cell_type": "code",
   "execution_count": 6,
   "metadata": {},
   "outputs": [
    {
     "name": "stdout",
     "output_type": "stream",
     "text": [
      "The minimum number transactions that they should sample = 246.0\n"
     ]
    }
   ],
   "source": [
    "# Use the same inital data as p3\n",
    "# requred P(investigation) = 5% or 0.05\n",
    "req_p_l = 0.05/2 # 5%/2 since the interval is symmetric, equal area distributed at both tails\n",
    "req_p_h = 1 - req_p_l\n",
    "Z_l = stats.norm.ppf(req_p_l) \n",
    "Z_h = stats.norm.ppf(req_p_h) # can use Z_l or Z_h to calculate number of samples, but choose lower or upper lim accordingly.\n",
    "req_n_samples = (Z_h*pop_stdev/(x_h-pop_mean))**2 # Method to calculate number of samples.\n",
    "print(\"The minimum number transactions that they should sample = {}\".format(np.round(req_n_samples)))"
   ]
  },
  {
   "cell_type": "code",
   "execution_count": null,
   "metadata": {},
   "outputs": [],
   "source": []
  }
 ],
 "metadata": {
  "kernelspec": {
   "display_name": "Python 3",
   "language": "python",
   "name": "python3"
  },
  "language_info": {
   "codemirror_mode": {
    "name": "ipython",
    "version": 3
   },
   "file_extension": ".py",
   "mimetype": "text/x-python",
   "name": "python",
   "nbconvert_exporter": "python",
   "pygments_lexer": "ipython3",
   "version": "3.7.4"
  }
 },
 "nbformat": 4,
 "nbformat_minor": 2
}
