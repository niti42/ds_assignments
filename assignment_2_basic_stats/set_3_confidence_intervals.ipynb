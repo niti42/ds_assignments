{
 "cells": [
  {
   "cell_type": "code",
   "execution_count": 1,
   "metadata": {},
   "outputs": [],
   "source": [
    "import pandas as pd\n",
    "import numpy as np\n",
    "import matplotlib.pyplot as plt\n",
    "from scipy import stats"
   ]
  },
  {
   "cell_type": "markdown",
   "metadata": {},
   "source": [
    "## P5"
   ]
  },
  {
   "cell_type": "markdown",
   "metadata": {},
   "source": [
    "In January 2005, a company that monitors Internet traffic (WebSideStory) reported that its sampling revealed that the Mozilla Firefox browser launched in 2004 had grabbed a 4.6% share of the market.\n",
    "\n",
    "I. If the sample were based on 2,000 users, could Microsoft conclude that Mozilla has a less than 5% share of the market?\n",
    "\n",
    "II. WebSideStory claims that its sample includes all the daily Internet users. If that’s the case, then can Microsoft conclude that Mozilla has a less than 5% share of the market?\n"
   ]
  },
  {
   "cell_type": "code",
   "execution_count": 3,
   "metadata": {},
   "outputs": [],
   "source": [
    "n_samples = 2000\n",
    "mkt_share_moz = 0.046 # 4.6% --> sample mean \n",
    "mkt_share_tres = 0.05 # 5%\n",
    "std_error = np.sqrt(mkt_share_moz*(1-mkt_share_moz)/n_samples)"
   ]
  },
  {
   "cell_type": "code",
   "execution_count": 6,
   "metadata": {},
   "outputs": [
    {
     "name": "stdout",
     "output_type": "stream",
     "text": [
      "Probability that mozilla captured less than 5% market share = 0.197\n"
     ]
    }
   ],
   "source": [
    "p_less_5pc = np.round(stats.norm.cdf(x=mkt_share_moz, loc=mkt_share_tres, scale=std_error),3)\n",
    "print(\"Probability that mozilla captured less than 5% market share = {:.3f}\".format(p_less_5pc))"
   ]
  },
  {
   "cell_type": "markdown",
   "metadata": {},
   "source": [
    "Questions 8 and 9 are based on the following: To prepare a report on the economy, analysts need to estimate the percentage of businesses that plan to hire additional employees in the next 60 days"
   ]
  },
  {
   "cell_type": "markdown",
   "metadata": {},
   "source": [
    "## P8"
   ]
  },
  {
   "cell_type": "markdown",
   "metadata": {},
   "source": [
    "How many randomly selected employers (minimum number) must we contact in order to guarantee a margin of error of no more than 4% (at 95% confidence)?\n",
    "\n",
    "A.\t600\n",
    "\n",
    "B.\t400\n",
    "\n",
    "C.\t550\n",
    "\n",
    "D.\t1000\n"
   ]
  },
  {
   "cell_type": "code",
   "execution_count": 13,
   "metadata": {},
   "outputs": [
    {
     "name": "stdout",
     "output_type": "stream",
     "text": [
      "num of samples to take if we want a margin of error no more thatn 4% = 600.0 samples at 95.0% confidence\n"
     ]
    }
   ],
   "source": [
    "margin_of_error = 0.04\n",
    "est_prop = 0.5 # Usr p = 0.5 to get the largest sample size calculation.\n",
    "conf__level = 0.95\n",
    "#Significance level = 1 - confidence level = 1 - 0.95 = 0.05 (95% confidence)\n",
    "sig_level = (1- conf__level)/2# Since the interval concerns a two tailed distribution thus 5%/2.\n",
    "Z_score = stats.norm.ppf(1-sig_level)\n",
    "num_samples = np.round(((Z_score/margin_of_error)**2)*( est_prop*(1-est_prop)))\n",
    "print(\"num of samples to take if we want a margin of error no more thatn 4% = {} samples at {}% confidence\".format(num_samples,(conf__level*100)))"
   ]
  },
  {
   "cell_type": "markdown",
   "metadata": {},
   "source": [
    "## P9"
   ]
  },
  {
   "cell_type": "markdown",
   "metadata": {},
   "source": [
    "Suppose we want the above margin of error to be based on a 98% confidence level. What sample size (minimum) must we now use?\n",
    "\n",
    "A.\t1000\n",
    "\n",
    "B.\t757\n",
    "\n",
    "C.\t848\n",
    "\n",
    "D.\t543\n"
   ]
  },
  {
   "cell_type": "code",
   "execution_count": 14,
   "metadata": {},
   "outputs": [
    {
     "name": "stdout",
     "output_type": "stream",
     "text": [
      "num of samples to take if we want a margin of error no more thatn 4% = 846.0 samples at 98.0% confidence\n"
     ]
    }
   ],
   "source": [
    "margin_of_error = 0.04\n",
    "est_prop = 0.5 # Usr p = 0.5 to get the largest sample size calculation.\n",
    "conf__level = 0.98\n",
    "#Significance level = 1 - confidence level = 1 - 0.95 = 0.05 (95% confidence)\n",
    "sig_level = (1- conf__level)/2# Since the interval concerns a two tailed distribution thus 5%/2.\n",
    "Z_score = stats.norm.ppf(1-sig_level)\n",
    "num_samples = np.round(((Z_score/margin_of_error)**2)*( est_prop*(1-est_prop)))\n",
    "print(\"num of samples to take if we want a margin of error no more thatn 4% = {} samples at {}% confidence\".format(num_samples,(conf__level*100)))"
   ]
  },
  {
   "cell_type": "code",
   "execution_count": null,
   "metadata": {},
   "outputs": [],
   "source": []
  }
 ],
 "metadata": {
  "kernelspec": {
   "display_name": "Python 3",
   "language": "python",
   "name": "python3"
  },
  "language_info": {
   "codemirror_mode": {
    "name": "ipython",
    "version": 3
   },
   "file_extension": ".py",
   "mimetype": "text/x-python",
   "name": "python",
   "nbconvert_exporter": "python",
   "pygments_lexer": "ipython3",
   "version": "3.7.4"
  }
 },
 "nbformat": 4,
 "nbformat_minor": 2
}
